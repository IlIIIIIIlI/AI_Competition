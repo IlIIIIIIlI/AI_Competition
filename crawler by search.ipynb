{
 "cells": [
  {
   "cell_type": "code",
   "execution_count": 1,
   "metadata": {},
   "outputs": [],
   "source": [
    "from selenium import webdriver\n",
    "from selenium.webdriver.common.by import By\n",
    "from selenium.webdriver.support import expected_conditions as ec\n",
    "from selenium.webdriver.support.wait import WebDriverWait\n",
    "import time\n",
    "import datetime\n",
    "import logging\n",
    "import random\n",
    "import openpyxl\n",
    "import pandas as pd\n",
    "from selenium.webdriver.common.keys import Keys\n",
    "from selenium.webdriver.common.by import By\n",
    "from selenium.webdriver.support.ui import WebDriverWait"
   ]
  },
  {
   "cell_type": "markdown",
   "metadata": {},
   "source": [
    "### 配置浏览器"
   ]
  },
  {
   "cell_type": "code",
   "execution_count": null,
   "metadata": {},
   "outputs": [],
   "source": [
    "logging.basicConfig(level=logging.INFO, format='%(asctime)s - %(levelname)s: %(message)s')\n",
    "wb = openpyxl.Workbook()\n",
    "sheet = wb.active\n",
    "sheet.append(['car', 'price'])"
   ]
  },
  {
   "cell_type": "code",
   "execution_count": null,
   "metadata": {},
   "outputs": [],
   "source": [
    "# 关闭左上方 Chrome 正受到自动测试软件的控制的提示\n",
    "options = webdriver.ChromeOptions()\n",
    "options.add_experimental_option('useAutomationExtension', False)\n",
    "options.add_experimental_option(\"excludeSwitches\", ['enable-automation'])\n",
    "browser = webdriver.Chrome(executable_path=chrome_driver, options=options)"
   ]
  },
  {
   "cell_type": "markdown",
   "metadata": {},
   "source": [
    "### 导入数据"
   ]
  },
  {
   "cell_type": "code",
   "execution_count": 3,
   "metadata": {},
   "outputs": [],
   "source": [
    "car = pd.read_excel('./车.xlsx')\n",
    "car = car[\"car\"].tolist()"
   ]
  },
  {
   "cell_type": "markdown",
   "metadata": {},
   "source": [
    "国外澳洲网"
   ]
  },
  {
   "cell_type": "code",
   "execution_count": null,
   "metadata": {},
   "outputs": [],
   "source": [
    "def foreignWeb(car):\n",
    "    chrome_driver = r'./win/chromedriver'\n",
    "    # 关闭左上方 Chrome 正受到自动测试软件的控制的提示\n",
    "    options = webdriver.ChromeOptions()\n",
    "    options.add_argument('--incognito')\n",
    "    options.add_argument('blink-settings=imagesEnabled=false') # 不載入圖片,提升速度\n",
    "    options.add_argument('User-Agent=Mozilla/5.0 (Linux; U; Android 8.1.0; zh-cn; BLA-AL00 Build/HUAWEIBLA-AL00) AppleWebKit/537.36 (KHTML, like Gecko) Version/4.0 Chrome/57.0.2987.132 MQQBrowser/8.9 Mobile Safari/537.36')\n",
    "\n",
    "#     options.add_experimental_option('useAutomationExtension', False)\n",
    "#     options.add_experimental_option(\"excludeSwitches\", ['enable-automation'])\n",
    "    browser = webdriver.Chrome(executable_path=chrome_driver, options=options)\n",
    "    browser.get('https://www.carmax.com/cars?search=BMW')\n",
    "#     wait = WebDriverWait(browser, 20)\n",
    "    ## 解决弹窗\n",
    "#     time.sleep(20)\n",
    "#     ttype = browser.find_element_by_xpath('//button/parent::div[@class=\"tour-popover-next-button\"]')\n",
    "#     print(ttype)\n",
    "    \n",
    "    xxpe = browser.find_element_by_xpath('//div[contains(text(), \"close filters.\")]')\n",
    "    print(xxpe)\n",
    "    time.sleep(20)\n",
    "#     browser.quit()\n",
    "        "
   ]
  },
  {
   "cell_type": "code",
   "execution_count": 5,
   "metadata": {},
   "outputs": [
    {
     "ename": "IndentationError",
     "evalue": "unexpected indent (<ipython-input-5-6f24e7b4a869>, line 2)",
     "output_type": "error",
     "traceback": [
      "\u001b[1;36m  File \u001b[1;32m\"<ipython-input-5-6f24e7b4a869>\"\u001b[1;36m, line \u001b[1;32m2\u001b[0m\n\u001b[1;33m    browser.find_element_by_xpath('//div[contains(text(), \"Filter & Sort\")]').click()\u001b[0m\n\u001b[1;37m    ^\u001b[0m\n\u001b[1;31mIndentationError\u001b[0m\u001b[1;31m:\u001b[0m unexpected indent\n"
     ]
    }
   ],
   "source": [
    "\n",
    "    \n",
    "#     wait.until(ec.element_to_be_clickable((By.XPATH,\"//div[@class='sidebar--title kmx-typography--body-1']//div//button[@Class='btn-clear-filter kmx-typography--body-1' and text()='Clear filter']\"))).click()\n",
    "    browser.find_element_by_xpath('//div[contains(text(), \"Filter & Sort\")]').click()\n",
    "#     browser.find_element(By.XPATH, '//button[text()=\"Clear filter\"]').click(); \n",
    "    time.sleep(1)\n",
    "#     wait.until(ec.element_to_be_clickable((By.XPATH,\"//div[@class='sidebar--title kmx-typography--body-1']//button[@Class='btn-clear-filter kmx-typography--body-1' and text()='Clear filter']\"))).click()\n",
    "    \n",
    "    # # 搜索框中输入内容，输入之前先清空\n",
    "    # _input.clear()\n",
    "    # _input.send_keys('Forrestor')\n",
    "    # # class定位   模拟点击搜文章\n",
    "    # browser.find_element_by_xpath(\"//input[@class='yccmp-search-btn']\").click()\n",
    "    # time.sleep(10)\n",
    "    _input = wait.until(ec.presence_of_element_located((By.ID, 'search-bar-input')))\n",
    "    _input.clear()\n",
    "    _input.send_keys(car, Keys.ENTER)\n",
    "#     _input.submit()\n",
    "\n",
    "    # 清除filter\n",
    "        \n",
    "    # class定位   模拟点击搜文章\n",
    "#     browser.find_element_by_xpath(\"//button[contains(@class,\\\"search-form--button\\\") and contains(@aria-label,\\\"Submit search by Make, Model, or Keyword\\\")]\").click()\n",
    "    time.sleep(5)\n",
    "    try:\n",
    "        elem = browser.find_element_by_xpath(\"//div[@class='car-tile--content']\")\n",
    "        all_p = elem.find_elements_by_tag_name(\"p\")\n",
    "        for p in all_p:\n",
    "            text = p.text\n",
    "            sheet.append([car, text])\n",
    "    except Exception:\n",
    "        sheet.append([car,\"\"])"
   ]
  },
  {
   "cell_type": "code",
   "execution_count": 7,
   "metadata": {},
   "outputs": [
    {
     "ename": "NoSuchElementException",
     "evalue": "Message: no such element: Unable to locate element: {\"method\":\"xpath\",\"selector\":\"//div[contains(text(), \"close filters.\")]\"}\n  (Session info: chrome=98.0.4758.102)\n",
     "output_type": "error",
     "traceback": [
      "\u001b[1;31m---------------------------------------------------------------------------\u001b[0m",
      "\u001b[1;31mNoSuchElementException\u001b[0m                    Traceback (most recent call last)",
      "\u001b[1;32m<ipython-input-7-8e507feb6350>\u001b[0m in \u001b[0;36m<module>\u001b[1;34m\u001b[0m\n\u001b[0;32m      3\u001b[0m \u001b[0mnum\u001b[0m \u001b[1;33m=\u001b[0m \u001b[1;36m0\u001b[0m\u001b[1;33m\u001b[0m\u001b[1;33m\u001b[0m\u001b[0m\n\u001b[0;32m      4\u001b[0m \u001b[1;32mfor\u001b[0m \u001b[0mi\u001b[0m \u001b[1;32min\u001b[0m \u001b[0mcar\u001b[0m\u001b[1;33m:\u001b[0m\u001b[1;33m\u001b[0m\u001b[1;33m\u001b[0m\u001b[0m\n\u001b[1;32m----> 5\u001b[1;33m     \u001b[0mforeignWeb\u001b[0m\u001b[1;33m(\u001b[0m\u001b[0mi\u001b[0m\u001b[1;33m)\u001b[0m\u001b[1;33m\u001b[0m\u001b[1;33m\u001b[0m\u001b[0m\n\u001b[0m\u001b[0;32m      6\u001b[0m     \u001b[0mnum\u001b[0m \u001b[1;33m+=\u001b[0m \u001b[1;36m1\u001b[0m\u001b[1;33m\u001b[0m\u001b[1;33m\u001b[0m\u001b[0m\n",
      "\u001b[1;32m<ipython-input-4-b00c8994508b>\u001b[0m in \u001b[0;36mforeignWeb\u001b[1;34m(car)\u001b[0m\n\u001b[0;32m     17\u001b[0m \u001b[1;31m#     print(ttype)\u001b[0m\u001b[1;33m\u001b[0m\u001b[1;33m\u001b[0m\u001b[1;33m\u001b[0m\u001b[0m\n\u001b[0;32m     18\u001b[0m \u001b[1;33m\u001b[0m\u001b[0m\n\u001b[1;32m---> 19\u001b[1;33m     \u001b[0mxxpe\u001b[0m \u001b[1;33m=\u001b[0m \u001b[0mbrowser\u001b[0m\u001b[1;33m.\u001b[0m\u001b[0mfind_element_by_xpath\u001b[0m\u001b[1;33m(\u001b[0m\u001b[1;34m'//div[contains(text(), \"close filters.\")]'\u001b[0m\u001b[1;33m)\u001b[0m\u001b[1;33m\u001b[0m\u001b[1;33m\u001b[0m\u001b[0m\n\u001b[0m\u001b[0;32m     20\u001b[0m     \u001b[0mprint\u001b[0m\u001b[1;33m(\u001b[0m\u001b[0mxxpe\u001b[0m\u001b[1;33m)\u001b[0m\u001b[1;33m\u001b[0m\u001b[1;33m\u001b[0m\u001b[0m\n\u001b[0;32m     21\u001b[0m     \u001b[0mtime\u001b[0m\u001b[1;33m.\u001b[0m\u001b[0msleep\u001b[0m\u001b[1;33m(\u001b[0m\u001b[1;36m20\u001b[0m\u001b[1;33m)\u001b[0m\u001b[1;33m\u001b[0m\u001b[1;33m\u001b[0m\u001b[0m\n",
      "\u001b[1;32m~\\anaconda3\\lib\\site-packages\\selenium\\webdriver\\remote\\webdriver.py\u001b[0m in \u001b[0;36mfind_element_by_xpath\u001b[1;34m(self, xpath)\u001b[0m\n\u001b[0;32m    392\u001b[0m             \u001b[0melement\u001b[0m \u001b[1;33m=\u001b[0m \u001b[0mdriver\u001b[0m\u001b[1;33m.\u001b[0m\u001b[0mfind_element_by_xpath\u001b[0m\u001b[1;33m(\u001b[0m\u001b[1;34m'//div/td[1]'\u001b[0m\u001b[1;33m)\u001b[0m\u001b[1;33m\u001b[0m\u001b[1;33m\u001b[0m\u001b[0m\n\u001b[0;32m    393\u001b[0m         \"\"\"\n\u001b[1;32m--> 394\u001b[1;33m         \u001b[1;32mreturn\u001b[0m \u001b[0mself\u001b[0m\u001b[1;33m.\u001b[0m\u001b[0mfind_element\u001b[0m\u001b[1;33m(\u001b[0m\u001b[0mby\u001b[0m\u001b[1;33m=\u001b[0m\u001b[0mBy\u001b[0m\u001b[1;33m.\u001b[0m\u001b[0mXPATH\u001b[0m\u001b[1;33m,\u001b[0m \u001b[0mvalue\u001b[0m\u001b[1;33m=\u001b[0m\u001b[0mxpath\u001b[0m\u001b[1;33m)\u001b[0m\u001b[1;33m\u001b[0m\u001b[1;33m\u001b[0m\u001b[0m\n\u001b[0m\u001b[0;32m    395\u001b[0m \u001b[1;33m\u001b[0m\u001b[0m\n\u001b[0;32m    396\u001b[0m     \u001b[1;32mdef\u001b[0m \u001b[0mfind_elements_by_xpath\u001b[0m\u001b[1;33m(\u001b[0m\u001b[0mself\u001b[0m\u001b[1;33m,\u001b[0m \u001b[0mxpath\u001b[0m\u001b[1;33m)\u001b[0m\u001b[1;33m:\u001b[0m\u001b[1;33m\u001b[0m\u001b[1;33m\u001b[0m\u001b[0m\n",
      "\u001b[1;32m~\\anaconda3\\lib\\site-packages\\selenium\\webdriver\\remote\\webdriver.py\u001b[0m in \u001b[0;36mfind_element\u001b[1;34m(self, by, value)\u001b[0m\n\u001b[0;32m    974\u001b[0m                 \u001b[0mby\u001b[0m \u001b[1;33m=\u001b[0m \u001b[0mBy\u001b[0m\u001b[1;33m.\u001b[0m\u001b[0mCSS_SELECTOR\u001b[0m\u001b[1;33m\u001b[0m\u001b[1;33m\u001b[0m\u001b[0m\n\u001b[0;32m    975\u001b[0m                 \u001b[0mvalue\u001b[0m \u001b[1;33m=\u001b[0m \u001b[1;34m'[name=\"%s\"]'\u001b[0m \u001b[1;33m%\u001b[0m \u001b[0mvalue\u001b[0m\u001b[1;33m\u001b[0m\u001b[1;33m\u001b[0m\u001b[0m\n\u001b[1;32m--> 976\u001b[1;33m         return self.execute(Command.FIND_ELEMENT, {\n\u001b[0m\u001b[0;32m    977\u001b[0m             \u001b[1;34m'using'\u001b[0m\u001b[1;33m:\u001b[0m \u001b[0mby\u001b[0m\u001b[1;33m,\u001b[0m\u001b[1;33m\u001b[0m\u001b[1;33m\u001b[0m\u001b[0m\n\u001b[0;32m    978\u001b[0m             'value': value})['value']\n",
      "\u001b[1;32m~\\anaconda3\\lib\\site-packages\\selenium\\webdriver\\remote\\webdriver.py\u001b[0m in \u001b[0;36mexecute\u001b[1;34m(self, driver_command, params)\u001b[0m\n\u001b[0;32m    319\u001b[0m         \u001b[0mresponse\u001b[0m \u001b[1;33m=\u001b[0m \u001b[0mself\u001b[0m\u001b[1;33m.\u001b[0m\u001b[0mcommand_executor\u001b[0m\u001b[1;33m.\u001b[0m\u001b[0mexecute\u001b[0m\u001b[1;33m(\u001b[0m\u001b[0mdriver_command\u001b[0m\u001b[1;33m,\u001b[0m \u001b[0mparams\u001b[0m\u001b[1;33m)\u001b[0m\u001b[1;33m\u001b[0m\u001b[1;33m\u001b[0m\u001b[0m\n\u001b[0;32m    320\u001b[0m         \u001b[1;32mif\u001b[0m \u001b[0mresponse\u001b[0m\u001b[1;33m:\u001b[0m\u001b[1;33m\u001b[0m\u001b[1;33m\u001b[0m\u001b[0m\n\u001b[1;32m--> 321\u001b[1;33m             \u001b[0mself\u001b[0m\u001b[1;33m.\u001b[0m\u001b[0merror_handler\u001b[0m\u001b[1;33m.\u001b[0m\u001b[0mcheck_response\u001b[0m\u001b[1;33m(\u001b[0m\u001b[0mresponse\u001b[0m\u001b[1;33m)\u001b[0m\u001b[1;33m\u001b[0m\u001b[1;33m\u001b[0m\u001b[0m\n\u001b[0m\u001b[0;32m    322\u001b[0m             response['value'] = self._unwrap_value(\n\u001b[0;32m    323\u001b[0m                 response.get('value', None))\n",
      "\u001b[1;32m~\\anaconda3\\lib\\site-packages\\selenium\\webdriver\\remote\\errorhandler.py\u001b[0m in \u001b[0;36mcheck_response\u001b[1;34m(self, response)\u001b[0m\n\u001b[0;32m    240\u001b[0m                 \u001b[0malert_text\u001b[0m \u001b[1;33m=\u001b[0m \u001b[0mvalue\u001b[0m\u001b[1;33m[\u001b[0m\u001b[1;34m'alert'\u001b[0m\u001b[1;33m]\u001b[0m\u001b[1;33m.\u001b[0m\u001b[0mget\u001b[0m\u001b[1;33m(\u001b[0m\u001b[1;34m'text'\u001b[0m\u001b[1;33m)\u001b[0m\u001b[1;33m\u001b[0m\u001b[1;33m\u001b[0m\u001b[0m\n\u001b[0;32m    241\u001b[0m             \u001b[1;32mraise\u001b[0m \u001b[0mexception_class\u001b[0m\u001b[1;33m(\u001b[0m\u001b[0mmessage\u001b[0m\u001b[1;33m,\u001b[0m \u001b[0mscreen\u001b[0m\u001b[1;33m,\u001b[0m \u001b[0mstacktrace\u001b[0m\u001b[1;33m,\u001b[0m \u001b[0malert_text\u001b[0m\u001b[1;33m)\u001b[0m\u001b[1;33m\u001b[0m\u001b[1;33m\u001b[0m\u001b[0m\n\u001b[1;32m--> 242\u001b[1;33m         \u001b[1;32mraise\u001b[0m \u001b[0mexception_class\u001b[0m\u001b[1;33m(\u001b[0m\u001b[0mmessage\u001b[0m\u001b[1;33m,\u001b[0m \u001b[0mscreen\u001b[0m\u001b[1;33m,\u001b[0m \u001b[0mstacktrace\u001b[0m\u001b[1;33m)\u001b[0m\u001b[1;33m\u001b[0m\u001b[1;33m\u001b[0m\u001b[0m\n\u001b[0m\u001b[0;32m    243\u001b[0m \u001b[1;33m\u001b[0m\u001b[0m\n\u001b[0;32m    244\u001b[0m     \u001b[1;32mdef\u001b[0m \u001b[0m_value_or_default\u001b[0m\u001b[1;33m(\u001b[0m\u001b[0mself\u001b[0m\u001b[1;33m,\u001b[0m \u001b[0mobj\u001b[0m\u001b[1;33m,\u001b[0m \u001b[0mkey\u001b[0m\u001b[1;33m,\u001b[0m \u001b[0mdefault\u001b[0m\u001b[1;33m)\u001b[0m\u001b[1;33m:\u001b[0m\u001b[1;33m\u001b[0m\u001b[1;33m\u001b[0m\u001b[0m\n",
      "\u001b[1;31mNoSuchElementException\u001b[0m: Message: no such element: Unable to locate element: {\"method\":\"xpath\",\"selector\":\"//div[contains(text(), \"close filters.\")]\"}\n  (Session info: chrome=98.0.4758.102)\n"
     ]
    }
   ],
   "source": [
    "# browser.maximize_window()\n",
    "# 设定最长等待时间  在10s内发现了输入框已经加载出来后就输入“网易云热评墙”\n",
    "num = 0\n",
    "for i in car:\n",
    "    foreignWeb(i)\n",
    "    num += 1"
   ]
  },
  {
   "cell_type": "code",
   "execution_count": null,
   "metadata": {},
   "outputs": [],
   "source": [
    "# 保存数据  输出日志信息  退出浏览器\n",
    "wb.save(filename='car_info2.xlsx')\n",
    "logging.info(f'共获取{num}条信息')\n",
    "browser.quit()"
   ]
  },
  {
   "cell_type": "code",
   "execution_count": null,
   "metadata": {},
   "outputs": [],
   "source": []
  },
  {
   "cell_type": "code",
   "execution_count": null,
   "metadata": {},
   "outputs": [],
   "source": []
  },
  {
   "cell_type": "markdown",
   "metadata": {},
   "source": [
    "易车网数据"
   ]
  },
  {
   "cell_type": "code",
   "execution_count": null,
   "metadata": {},
   "outputs": [],
   "source": [
    "def Chineseprocess(car):\n",
    "    wait = WebDriverWait(browser, 20)\n",
    "    _input = wait.until(ec.presence_of_element_located((By.CLASS_NAME, 'yccmp-search-input')))\n",
    "    # # 搜索框中输入内容，输入之前先清空\n",
    "    # _input.clear()\n",
    "    # _input.send_keys('Forrestor')\n",
    "    # # class定位   模拟点击搜文章\n",
    "    # browser.find_element_by_xpath(\"//input[@class='yccmp-search-btn']\").click()\n",
    "    # time.sleep(10)\n",
    "\n",
    "    _input.clear()\n",
    "    _input.send_keys(car)\n",
    "    # class定位   模拟点击搜文章\n",
    "    browser.find_element_by_xpath(\"//input[@class='yccmp-search-btn']\").click()\n",
    "    \n",
    "    try:\n",
    "        elem = browser.find_element_by_xpath('//*[@class=\"pp-car-list\"]/ul')\n",
    "        all_li = elem.find_elements_by_tag_name(\"li\")\n",
    "        for li in all_li:\n",
    "            text = li.text\n",
    "            sheet.append([car, text])\n",
    "    except Exception:\n",
    "        sheet.append([car,\"\"])\n",
    "    \n",
    "    time.sleep(5)"
   ]
  },
  {
   "cell_type": "code",
   "execution_count": null,
   "metadata": {},
   "outputs": [],
   "source": [
    "browser.get('https://so.yiche.com/chexing/')\n",
    "# browser.maximize_window()\n",
    "# 设定最长等待时间  在10s内发现了输入框已经加载出来后就输入“网易云热评墙”\n",
    "num = 0\n",
    "for i in car:\n",
    "    Chineseprocess(i)\n",
    "    num += 1"
   ]
  },
  {
   "cell_type": "code",
   "execution_count": null,
   "metadata": {},
   "outputs": [],
   "source": [
    "# 保存数据  输出日志信息  退出浏览器\n",
    "wb.save(filename='car_info.xlsx')\n",
    "logging.info(f'共获取{num}条信息')\n",
    "browser.quit()"
   ]
  },
  {
   "cell_type": "code",
   "execution_count": null,
   "metadata": {},
   "outputs": [],
   "source": []
  },
  {
   "cell_type": "code",
   "execution_count": null,
   "metadata": {},
   "outputs": [],
   "source": []
  },
  {
   "cell_type": "code",
   "execution_count": null,
   "metadata": {},
   "outputs": [],
   "source": []
  },
  {
   "cell_type": "code",
   "execution_count": null,
   "metadata": {},
   "outputs": [],
   "source": []
  },
  {
   "cell_type": "code",
   "execution_count": null,
   "metadata": {},
   "outputs": [],
   "source": []
  },
  {
   "cell_type": "code",
   "execution_count": null,
   "metadata": {},
   "outputs": [],
   "source": [
    "def get_news():\n",
    "    # 全局变量  统计文章数  记序\n",
    "    global num\n",
    "    article_lis = browser.find_elements_by_xpath('//ul[@class=\"news-list\"]/li')\n",
    "    for article in article_lis:\n",
    "        num += 1\n",
    "        # 获取文章title\n",
    "        title = article.find_element_by_xpath('.//h3/a').text\n",
    "        # 获取文章发表日期\n",
    "        date = article.find_element_by_xpath('.//span[@class=\"s2\"]').text\n",
    "        # 文章发表的日期如果较近可能显示的为  1天前 12小时前 30分钟前  需要进行处理\n",
    "        # 可以用 datetime 模块根据时间差求出具体时间\n",
    "        # 然后格式化为 2020-8-31 这样的格式\n",
    "        if '前' in date:\n",
    "            today = datetime.datetime.today()\n",
    "            if '天' in date:\n",
    "                delta = datetime.timedelta(days=int(date[0]))\n",
    "            elif '小时' in date:\n",
    "                delta = datetime.timedelta(hours=int(date.replace('小时前', '')))\n",
    "            else:\n",
    "                delta = datetime.timedelta(minutes=int(date.replace('分钟前', '')))\n",
    "            date = (today - delta).strftime('%Y-%m-%d')\n",
    "        # 获取链接\n",
    "        link = article.find_element_by_xpath('.//h3/a').get_attribute('href')\n",
    "        sheet.append([num, title, date, link])\n",
    "        print(num, title, date)\n",
    "        print(link)\n",
    "        print('*' * 25)\n",
    "\n",
    "\n",
    "for i in range(10):\n",
    "    get_news()\n",
    "    if i == 9:\n",
    "        # 如果访问到第十页则跳出循环  不需要点击“下一页”\n",
    "        break\n",
    "    browser.find_element_by_id(\"sogou_next\").click()\n",
    "    # 休眠  防止爬取过快  中途又让扫码登录\n",
    "    time.sleep(random.randint(3, 5))\n",
    "\n",
    "# 点登录\n",
    "browser.find_element_by_name('top_login').click()\n",
    "\n",
    "# 等待扫码登录上去   直到可以再点击下一页  退出循环\n",
    "while True:\n",
    "    try:\n",
    "        next_page = browser.find_element_by_id(\"sogou_next\")\n",
    "        break\n",
    "    except Exception as e:\n",
    "        logging.info(e.args[0])\n",
    "        time.sleep(2)\n",
    "next_page.click()\n",
    "\n",
    "# 登录上后  继续爬取文章信息\n",
    "while True:\n",
    "    get_news()\n",
    "    try:\n",
    "        browser.find_element_by_id(\"sogou_next\").click()\n",
    "        time.sleep(random.randint(3, 5))\n",
    "    # 直到不存在下一页  爬取结束\n",
    "    except Exception as e:\n",
    "        logging.info(e.args[0])\n",
    "        break"
   ]
  }
 ],
 "metadata": {
  "kernelspec": {
   "display_name": "Python 3",
   "language": "python",
   "name": "python3"
  },
  "language_info": {
   "codemirror_mode": {
    "name": "ipython",
    "version": 3
   },
   "file_extension": ".py",
   "mimetype": "text/x-python",
   "name": "python",
   "nbconvert_exporter": "python",
   "pygments_lexer": "ipython3",
   "version": "3.8.3"
  },
  "toc": {
   "base_numbering": 1,
   "nav_menu": {},
   "number_sections": true,
   "sideBar": true,
   "skip_h1_title": false,
   "title_cell": "Table of Contents",
   "title_sidebar": "Contents",
   "toc_cell": false,
   "toc_position": {},
   "toc_section_display": true,
   "toc_window_display": false
  }
 },
 "nbformat": 4,
 "nbformat_minor": 5
}
